{
 "cells": [
  {
   "cell_type": "code",
   "execution_count": 2,
   "metadata": {},
   "outputs": [
    {
     "name": "stdout",
     "output_type": "stream",
     "text": [
      "5\n",
      "7\n",
      "4\n",
      "Yes it is possible to measure4liters of water using x and y\n",
      "JUG1\tJUG2\n",
      "0\t0\n",
      "5\t0\n",
      "0\t5\n",
      "5\t5\n",
      "3\t7\n",
      "0\t3\n",
      "5\t3\n",
      "1\t7\n",
      "0\t1\n",
      "5\t1\n",
      "0\t6\n",
      "5\t6\n",
      "4\t7\n",
      "0\t4\n"
     ]
    }
   ],
   "source": [
    "\n",
    "X=input(\"\")\n",
    "Y=input(\"\")\n",
    "Z=input(\"\")\n",
    "x=int(X)\n",
    "y=int(Y)\n",
    "z=int(Z)\n",
    "\n",
    "def gcd(x,y):\n",
    "    if x>y:\n",
    "        mini=y\n",
    "    else:\n",
    "        mini=x\n",
    "    \n",
    "    for i in range(1,mini+1):\n",
    "        if (x%i==0) and (y%i==0):\n",
    "            gcd=i\n",
    "    return gcd\n",
    "def measure(x,y,z):\n",
    "    if x+y<z:\n",
    "        return False\n",
    "    if x==z or y==z or x+y==z:\n",
    "        return True\n",
    "    if z%gcd(x,y)==0:\n",
    "        return True\n",
    "    \n",
    "result = measure(x,y,z)\n",
    "if result == True:\n",
    "    print(\"Yes it is possible to measure\"+ str(Z) +\"liters of water using x and y\")\n",
    "if result==False:\n",
    "    print(\"No it is not possible to measure\"+ str(Z) +\"litres of water using x and y\")\n",
    "\n",
    "    \n",
    "\n",
    "\n",
    "print(\"JUG1\\tJUG2\")\n",
    "def tracking(jug1, jug2):\n",
    "    max1, max2, fill = x,y,z  #Change maximum capacity and final capacity\n",
    "    print(\"%d\\t%d\" % (jug1, jug2))\n",
    "    if jug2 is fill:\n",
    "        return\n",
    "    elif jug2 is max2:\n",
    "        tracking(0, jug1)\n",
    "    elif jug1 != 0 and jug2 is 0:\n",
    "        tracking(0, jug1)\n",
    "    elif jug1 is fill:\n",
    "        tracking(jug1, 0)\n",
    "    elif jug1 < max1:\n",
    "        tracking(max1, jug2)\n",
    "    elif jug1 < (max2-jug2):\n",
    "        tracking(0, (jug1+jug2))\n",
    "    else:\n",
    "        tracking(jug1-(max2-jug2), (max2-jug2)+jug2)\n",
    "result1=tracking(0,0)\n",
    "\n",
    "    \n",
    "\n",
    "\n",
    "\n"
   ]
  },
  {
   "cell_type": "code",
   "execution_count": null,
   "metadata": {},
   "outputs": [],
   "source": []
  },
  {
   "cell_type": "code",
   "execution_count": null,
   "metadata": {},
   "outputs": [],
   "source": []
  }
 ],
 "metadata": {
  "kernelspec": {
   "display_name": "Python 3",
   "language": "python",
   "name": "python3"
  },
  "language_info": {
   "codemirror_mode": {
    "name": "ipython",
    "version": 3
   },
   "file_extension": ".py",
   "mimetype": "text/x-python",
   "name": "python",
   "nbconvert_exporter": "python",
   "pygments_lexer": "ipython3",
   "version": "3.7.6"
  }
 },
 "nbformat": 4,
 "nbformat_minor": 4
}
