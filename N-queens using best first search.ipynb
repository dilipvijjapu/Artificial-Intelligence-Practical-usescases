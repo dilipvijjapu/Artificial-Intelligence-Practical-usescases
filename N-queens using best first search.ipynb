{
 "cells": [
  {
   "cell_type": "code",
   "execution_count": 10,
   "metadata": {},
   "outputs": [
    {
     "name": "stdout",
     "output_type": "stream",
     "text": [
      " 4\n"
     ]
    },
    {
     "ename": "TypeError",
     "evalue": "Nqueens() takes no arguments",
     "output_type": "error",
     "traceback": [
      "\u001b[1;31m---------------------------------------------------------------------------\u001b[0m",
      "\u001b[1;31mTypeError\u001b[0m                                 Traceback (most recent call last)",
      "\u001b[1;32m<ipython-input-10-42cf1a19412f>\u001b[0m in \u001b[0;36m<module>\u001b[1;34m\u001b[0m\n\u001b[0;32m     65\u001b[0m \u001b[1;33m\u001b[0m\u001b[0m\n\u001b[0;32m     66\u001b[0m \u001b[1;32mif\u001b[0m \u001b[0m__name__\u001b[0m\u001b[1;33m==\u001b[0m\u001b[1;34m'__main__'\u001b[0m\u001b[1;33m:\u001b[0m\u001b[1;33m\u001b[0m\u001b[1;33m\u001b[0m\u001b[0m\n\u001b[1;32m---> 67\u001b[1;33m     \u001b[0mmain\u001b[0m\u001b[1;33m(\u001b[0m\u001b[1;33m)\u001b[0m\u001b[1;33m\u001b[0m\u001b[1;33m\u001b[0m\u001b[0m\n\u001b[0m\u001b[0;32m     68\u001b[0m \u001b[1;33m\u001b[0m\u001b[0m\n\u001b[0;32m     69\u001b[0m \u001b[1;33m\u001b[0m\u001b[0m\n",
      "\u001b[1;32m<ipython-input-10-42cf1a19412f>\u001b[0m in \u001b[0;36mmain\u001b[1;34m()\u001b[0m\n\u001b[0;32m     44\u001b[0m \u001b[1;32mdef\u001b[0m \u001b[0mmain\u001b[0m\u001b[1;33m(\u001b[0m\u001b[1;33m)\u001b[0m\u001b[1;33m:\u001b[0m\u001b[1;33m\u001b[0m\u001b[1;33m\u001b[0m\u001b[0m\n\u001b[0;32m     45\u001b[0m     \u001b[0msize\u001b[0m\u001b[1;33m=\u001b[0m\u001b[0mint\u001b[0m\u001b[1;33m(\u001b[0m\u001b[0minput\u001b[0m\u001b[1;33m(\u001b[0m\u001b[1;34m' '\u001b[0m\u001b[1;33m)\u001b[0m\u001b[1;33m)\u001b[0m\u001b[1;33m\u001b[0m\u001b[1;33m\u001b[0m\u001b[0m\n\u001b[1;32m---> 46\u001b[1;33m     \u001b[0mnod\u001b[0m\u001b[1;33m=\u001b[0m\u001b[0mNqueens\u001b[0m\u001b[1;33m(\u001b[0m\u001b[0msize\u001b[0m\u001b[1;33m)\u001b[0m\u001b[1;33m\u001b[0m\u001b[1;33m\u001b[0m\u001b[0m\n\u001b[0m\u001b[0;32m     47\u001b[0m     \u001b[0mnod\u001b[0m\u001b[1;33m.\u001b[0m\u001b[0maddcost\u001b[0m\u001b[1;33m(\u001b[0m\u001b[1;36m0\u001b[0m\u001b[1;33m,\u001b[0m\u001b[1;36m0\u001b[0m\u001b[1;33m,\u001b[0m\u001b[1;36m5\u001b[0m\u001b[1;33m)\u001b[0m\u001b[1;33m\u001b[0m\u001b[1;33m\u001b[0m\u001b[0m\n\u001b[0;32m     48\u001b[0m     \u001b[0mnod\u001b[0m\u001b[1;33m.\u001b[0m\u001b[0maddcost\u001b[0m\u001b[1;33m(\u001b[0m\u001b[1;36m0\u001b[0m\u001b[1;33m,\u001b[0m\u001b[1;36m1\u001b[0m\u001b[1;33m,\u001b[0m\u001b[1;36m8\u001b[0m\u001b[1;33m)\u001b[0m\u001b[1;33m\u001b[0m\u001b[1;33m\u001b[0m\u001b[0m\n",
      "\u001b[1;31mTypeError\u001b[0m: Nqueens() takes no arguments"
     ]
    }
   ],
   "source": [
    "from queue import PriorityQueue\n",
    "\n",
    "class Nqueens:\n",
    "    \n",
    "    def __inti__(self,size):\n",
    "        self.size=size\n",
    "        #self.pr=PriorityQueue()\n",
    "        #self.solutions=[]\n",
    "    \n",
    "    \n",
    "    def addcost(self,i,j,c):\n",
    "        \n",
    "        self.pr.put((c,(i,j)))\n",
    "        \n",
    "    \n",
    "    \n",
    "    def bestfirst(self):\n",
    "      \n",
    "        while len(self.solutions)!=self.size:\n",
    "            sol=self.pr.get()[1]\n",
    "            self.solutions.append(sol)\n",
    "            if self.conflict():\n",
    "                self.solutions.pop()\n",
    "        \n",
    "        return solutions\n",
    "        \n",
    "        \n",
    "        \n",
    "    def conflict(self):\n",
    "        for i in range(1, len(self.solutions)):\n",
    "            for j in range(0, i):\n",
    "                a, b = self.solutions[i]\n",
    "                c, d = self.solutions[j]\n",
    "                if a == c or b == d or abs(a - c) == abs(b - d):\n",
    "                    return True\n",
    "        return False\n",
    "        \n",
    "        \n",
    "        \n",
    "    \n",
    "    \n",
    "    \n",
    "\n",
    "def main():\n",
    "    size=int(input(' '))\n",
    "    nod=Nqueens(size)\n",
    "    nod.addcost(0,0,5)\n",
    "    nod.addcost(0,1,8)\n",
    "    nod.addcost(0,2,1)\n",
    "    nod.addcost(0,3,9)\n",
    "    nod.addcost(1,1,2)\n",
    "    nod.addcost(1,2,11)\n",
    "    nod.addcost(1,3,6)\n",
    "    nod.addcost(2,0,10)\n",
    "    nod.addcost(2,1,12)\n",
    "    nod.addcost(2,2,7)\n",
    "    nod.addcost(2,3,3)\n",
    "    nod.addcost(3,0,6)\n",
    "    nod.addcost(3,1,4)\n",
    "    nod.addcost(3,2,13)\n",
    "    nod.addcost(3,3,14)\n",
    "\n",
    "    res=nod.bestfirst()\n",
    "    print(res)\n",
    "\n",
    "if __name__=='__main__':\n",
    "    main()\n",
    "        \n",
    "        \n",
    "        \n",
    "          \n",
    "        \n",
    "        \n",
    "        \n",
    "        \n",
    "        \n",
    "        \n",
    "        \n"
   ]
  },
  {
   "cell_type": "code",
   "execution_count": null,
   "metadata": {},
   "outputs": [],
   "source": []
  }
 ],
 "metadata": {
  "kernelspec": {
   "display_name": "Python 3",
   "language": "python",
   "name": "python3"
  },
  "language_info": {
   "codemirror_mode": {
    "name": "ipython",
    "version": 3
   },
   "file_extension": ".py",
   "mimetype": "text/x-python",
   "name": "python",
   "nbconvert_exporter": "python",
   "pygments_lexer": "ipython3",
   "version": "3.7.6"
  }
 },
 "nbformat": 4,
 "nbformat_minor": 4
}
