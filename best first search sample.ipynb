{
 "cells": [
  {
   "cell_type": "code",
   "execution_count": 18,
   "metadata": {},
   "outputs": [
    {
     "name": "stdout",
     "output_type": "stream",
     "text": [
      " 4\n",
      "[(0, 2), (1, 1), (2, 3), (3, 1)]\n"
     ]
    }
   ],
   "source": [
    "from queue import PriorityQueue\n",
    "class NQueens:\n",
    "\n",
    "    def __init__(self, size):\n",
    "        self.size = size\n",
    "        self.pr = PriorityQueue()\n",
    "        self.solutions=[]\n",
    "\n",
    "    \n",
    "     \n",
    "    def addcost(self,i,j,c):\n",
    "        \n",
    "        self.pr.put((c,(i,j)))\n",
    "        \n",
    "    \n",
    "    \n",
    "    def bestfirst(self):\n",
    "      \n",
    "        while len(self.solutions)!=self.size:\n",
    "                sol=self.pr.get()[1]\n",
    "                self.solutions.append(sol)\n",
    "        return self.solutions\n",
    "    \n",
    "           \n",
    "    \n",
    "                \n",
    "    def conflict(self):\n",
    "        for i in range(0, len(self.solutions)):\n",
    "            for j in range(0, i):\n",
    "                a, b = self.solutions[i]\n",
    "                c, d = self.solutions[j]\n",
    "                if a == c or b == d or abs(a - c) == abs(b - d):\n",
    "                    return True\n",
    "        return False\n",
    "\n",
    "    \n",
    "\n",
    "def main():\n",
    "    size=int(input(' '))\n",
    "    nod=NQueens(size)\n",
    "    nod.addcost(0,0,5)\n",
    "    nod.addcost(0,1,8)\n",
    "    nod.addcost(0,2,1)\n",
    "    nod.addcost(0,3,9)\n",
    "    nod.addcost(1,1,2)\n",
    "    nod.addcost(1,2,11)\n",
    "    nod.addcost(1,3,6)\n",
    "    nod.addcost(2,0,10)\n",
    "    nod.addcost(2,1,12)\n",
    "    nod.addcost(2,2,7)\n",
    "    nod.addcost(2,3,3)\n",
    "    nod.addcost(3,0,6)\n",
    "    nod.addcost(3,1,4)\n",
    "    nod.addcost(3,2,13)\n",
    "    nod.addcost(3,3,14)\n",
    "\n",
    "    res=nod.bestfirst()\n",
    "    print(res)\n",
    "\n",
    "\n",
    "        \n",
    "        \n",
    "\n",
    "if __name__ == '__main__':\n",
    "    main()"
   ]
  },
  {
   "cell_type": "code",
   "execution_count": null,
   "metadata": {},
   "outputs": [],
   "source": []
  },
  {
   "cell_type": "code",
   "execution_count": null,
   "metadata": {},
   "outputs": [],
   "source": []
  }
 ],
 "metadata": {
  "kernelspec": {
   "display_name": "Python 3",
   "language": "python",
   "name": "python3"
  },
  "language_info": {
   "codemirror_mode": {
    "name": "ipython",
    "version": 3
   },
   "file_extension": ".py",
   "mimetype": "text/x-python",
   "name": "python",
   "nbconvert_exporter": "python",
   "pygments_lexer": "ipython3",
   "version": "3.7.6"
  }
 },
 "nbformat": 4,
 "nbformat_minor": 4
}
